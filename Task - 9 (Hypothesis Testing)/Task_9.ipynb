{
 "cells": [
  {
   "cell_type": "code",
   "execution_count": 9,
   "metadata": {},
   "outputs": [],
   "source": [
    "import pandas as pd\n",
    "import numpy as np\n",
    "import matplotlib.pyplot as plt\n",
    "from scipy.stats import t,norm"
   ]
  },
  {
   "cell_type": "code",
   "execution_count": 10,
   "metadata": {},
   "outputs": [],
   "source": [
    "def t_score_fun(sample_size, sample_mean, pop_mean, sample_std):\n",
    "    numerator = sample_mean - pop_mean\n",
    "    denomenator = sample_std / sample_size**0.5\n",
    "    return numerator / denomenator"
   ]
  },
  {
   "cell_type": "markdown",
   "metadata": {},
   "source": [
    "Q-1: Pista House selling Hyderabadi Chicken Dum biryani claims that each parcel packet has 500 grams of biryani (also mentioned on the label of packet). You are sceptic of their claims and believe that on average each packet does not contain 500 grams of biryani. How do you prove your claim?\n",
    "\n",
    "Step - 1:\n",
    "Alternate Hypothesis (Bold claim):$$ H_1: \\ \\neq 500 $$Null Hypothesis (Status Quo):$$ H_0: \\ = 500 $$\n",
    "\n",
    "Step - 2:\n",
    "\n",
    "Collect a sample of size n = 10$$ [490, 220, 470, 500, 495, 496, 496, 498, 508, 480] $$\n",
    "Compute sample mean$$ \\bar{x} \\ = \\ 465.3 $$\n",
    "Step - 3: Compute Test Statistic, we don't have population's std so we will calculate t-score:$$ t = \\frac{\\bar{x} - \\mu}{S/\\sqrt[2]{n}}$$\n",
    "\n",
    "Step - 4: Decide $ \\alpha $ or significance level\n",
    "\n",
    "Step - 5.1: two tailed t-test:$$ reject \\ H_0 \\ if \\ \\ |t| &gt; t_{n-1,\\frac{\\alpha}{2}} $$\n",
    "\n",
    "Step - 5.2: Compute p-value"
   ]
  },
  {
   "cell_type": "code",
   "execution_count": 11,
   "metadata": {},
   "outputs": [
    {
     "name": "stdout",
     "output_type": "stream",
     "text": [
      "465.3\n"
     ]
    }
   ],
   "source": [
    "pop_mean = 500\n",
    "\n",
    "l = [490, 220, 470, 500, 495, 496, 496, 498, 508, 480]\n",
    "sample_size = len(l)\n",
    "sample_mean = sum(l)/len(l)\n",
    "\n",
    "print(sample_mean)"
   ]
  },
  {
   "cell_type": "code",
   "execution_count": 12,
   "metadata": {},
   "outputs": [
    {
     "name": "stdout",
     "output_type": "stream",
     "text": [
      "82.3918078451978\n"
     ]
    }
   ],
   "source": [
    "# Calculating the std of sample\n",
    "\n",
    "sample_std = []\n",
    "for i in l:\n",
    "    sample_std.append((i-sample_mean)**2)\n",
    "    \n",
    "sample_std = (sum(sample_std)/len(l))**0.5\n",
    "print(sample_std)"
   ]
  },
  {
   "cell_type": "code",
   "execution_count": 15,
   "metadata": {},
   "outputs": [
    {
     "name": "stdout",
     "output_type": "stream",
     "text": [
      "2.2621571627409915\n"
     ]
    }
   ],
   "source": [
    "# Right Tail - Calculating the t-critical value\n",
    "\n",
    "confidence_level = 0.95\n",
    "alpha = 1 - confidence_level\n",
    "df = len(l)-1\n",
    "t_critical = t.ppf(1 - alpha/2, df) # One tailed t score for 95% Confidence Level\n",
    "\n",
    "print(t_critical)"
   ]
  },
  {
   "cell_type": "code",
   "execution_count": 16,
   "metadata": {},
   "outputs": [
    {
     "name": "stdout",
     "output_type": "stream",
     "text": [
      "-1.3318197242863192\n"
     ]
    }
   ],
   "source": [
    "# Calculating the t-score\n",
    "\n",
    "t_score = t_score_fun(sample_size, sample_mean, pop_mean, sample_std)\n",
    "print(t_score)"
   ]
  },
  {
   "cell_type": "code",
   "execution_count": 20,
   "metadata": {},
   "outputs": [
    {
     "data": {
      "text/plain": [
       "Text(465.3, 0.0007, 'x_bar')"
      ]
     },
     "execution_count": 20,
     "metadata": {},
     "output_type": "execute_result"
    },
    {
     "data": {
      "image/png": "[encoded data removed]",
      "text/plain": [
       "<Figure size 432x288 with 1 Axes>"
      ]
     },
     "metadata": {
      "needs_background": "light"
     },
     "output_type": "display_data"
    }
   ],
   "source": [
    "# Ploting the sampling distribution with rejection regions\n",
    "\n",
    "# Defining the x minimum and x maximum\n",
    "x_min = 400\n",
    "x_max = 600\n",
    "\n",
    "# Defining the sampling distribution mean and sampling distribution std\n",
    "mean = pop_mean\n",
    "std = sample_std / sample_size**0.5\n",
    "\n",
    "# Ploting the graph and setting the x limits\n",
    "x = np.linspace(x_min, x_max, 100)\n",
    "y = norm.pdf(x, mean, std)\n",
    "plt.xlim(x_min, x_max)\n",
    "plt.plot(x, y)\n",
    "\n",
    "# Computing the left and right critical values (Two tailed Test)\n",
    "t_critical_left = pop_mean + (-t_critical * std)\n",
    "t_critical_right = pop_mean + (t_critical * std)\n",
    "\n",
    "# Shading the left rejection region\n",
    "x1 = np.linspace(x_min, t_critical_left, 100)\n",
    "y1 = norm.pdf(x1, mean, std)\n",
    "plt.fill_between(x1, y1, color='orange')\n",
    "\n",
    "# Shading the right rejection region\n",
    "x2 = np.linspace(t_critical_right, x_max, 100)\n",
    "y2 = norm.pdf(x2, mean, std)\n",
    "plt.fill_between(x2, y2, color='orange')\n",
    "\n",
    "# Ploting the sample mean and concluding the results \n",
    "plt.scatter(sample_mean, 0)\n",
    "plt.annotate(\"x_bar\", (sample_mean, 0.0007))\n",
    "\n",
    "# In this case sample mean falls in the acceptance region\n",
    "# i.e. here we fail to reject the Null Hypothesis"
   ]
  },
  {
   "cell_type": "code",
   "execution_count": 21,
   "metadata": {},
   "outputs": [
    {
     "name": "stdout",
     "output_type": "stream",
     "text": [
      "Fail to reject Null Hypothesis\n"
     ]
    }
   ],
   "source": [
    "# Conclusion using t test\n",
    "\n",
    "if(np.abs(t_score) > t_critical):\n",
    "    print(\"Reject Null Hypothesis\")\n",
    "else:\n",
    "    print(\"Fail to reject Null Hypothesis\")"
   ]
  },
  {
   "cell_type": "code",
   "execution_count": 22,
   "metadata": {},
   "outputs": [
    {
     "name": "stdout",
     "output_type": "stream",
     "text": [
      "p_value =  0.09145971743176973\n",
      "Fail to reject Null Hypothesis\n"
     ]
    }
   ],
   "source": [
    "# Conclusion using p test\n",
    "\n",
    "p_value = 1.0 - norm.cdf(np.abs(t_score))\n",
    "print(\"p_value = \", p_value)\n",
    "\n",
    "if(p_value < alpha):\n",
    "    print(\"Reject Null Hypothesis\")\n",
    "else:\n",
    "    print(\"Fail to reject Null Hypothesis\")"
   ]
  },
  {
   "cell_type": "markdown",
   "metadata": {},
   "source": [
    "Q-2: You have developed a new Natural Language Processing Algorithms and done a user study. You claim that the average rating given by the users is greater than 4 on a scale of 1 to 5. How do you prove this to your client?\n",
    "\n",
    "Step - 1:\n",
    "Alternate Hypothesis (Bold Claim):$$ H_1: \\ &gt; 4 $$Null Hypothesis (Status Quo):$$ H_0: \\ &lt;= 4 $$\n",
    "\n",
    "Step - 2:\n",
    "\n",
    "Collect a sample of size n = 10$$ [4, 3, 5, 4, 5, 3, 5, 5, 4, 2, 4, 5, 5, 4, 4, 5, 4, 5, 4, 5] $$\n",
    "Compute sample mean$$ \\bar{x} \\ = \\ 4.25 $$\n",
    "Step - 3: Compute Test Statistic:$$ t = \\frac{\\bar{x} - \\mu}{S/\\sqrt[2]{n}}$$\n",
    "\n",
    "Step - 4: Decide $ \\alpha $\n",
    "\n",
    "Step - 5.1: right tailed t-test:$$ reject \\ H_0 \\ if \\ \\ t &gt; t_{n-1,\\alpha} $$\n",
    "\n",
    "Step - 5.2: Compute p-value"
   ]
  },
  {
   "cell_type": "code",
   "execution_count": 23,
   "metadata": {},
   "outputs": [
    {
     "name": "stdout",
     "output_type": "stream",
     "text": [
      "4.25\n"
     ]
    }
   ],
   "source": [
    "pop_mean = 4\n",
    "\n",
    "l = [4, 3, 5, 4, 5, 3, 5, 5, 4, 2, 4, 5, 5, 4, 4, 5, 4, 5, 4, 5]\n",
    "sample_size = len(l)\n",
    "sample_mean = sum(l)/len(l)\n",
    "\n",
    "print(sample_mean)"
   ]
  },
  {
   "cell_type": "code",
   "execution_count": 24,
   "metadata": {},
   "outputs": [
    {
     "name": "stdout",
     "output_type": "stream",
     "text": [
      "0.82915619758885\n"
     ]
    }
   ],
   "source": [
    "# Calculating the std of sample\n",
    "\n",
    "sample_std = []\n",
    "for i in l:\n",
    "    sample_std.append((i-sample_mean)**2)\n",
    "    \n",
    "sample_std = (sum(sample_std)/len(l))**0.5\n",
    "print(sample_std)"
   ]
  },
  {
   "cell_type": "code",
   "execution_count": 25,
   "metadata": {},
   "outputs": [
    {
     "name": "stdout",
     "output_type": "stream",
     "text": [
      "1.729132811521367\n"
     ]
    }
   ],
   "source": [
    "# Right Tail - Calculating the t-critical value\n",
    "\n",
    "confidence_level = 0.95\n",
    "alpha = 1 - confidence_level\n",
    "df = len(l)-1\n",
    "t_critical = t.ppf(1 - alpha, df) # One tailed t score for 95% Confidence Level\n",
    "\n",
    "print(t_critical)"
   ]
  },
  {
   "cell_type": "code",
   "execution_count": 26,
   "metadata": {},
   "outputs": [
    {
     "name": "stdout",
     "output_type": "stream",
     "text": [
      "1.3483997249264843\n"
     ]
    }
   ],
   "source": [
    "# Calculating the t-score\n",
    "\n",
    "t_score = t_score_fun(sample_size, sample_mean, pop_mean, sample_std)\n",
    "print(t_score)"
   ]
  },
  {
   "cell_type": "code",
   "execution_count": 27,
   "metadata": {},
   "outputs": [
    {
     "data": {
      "text/plain": [
       "Text(4.25, 0.0007, 'x_bar')"
      ]
     },
     "execution_count": 27,
     "metadata": {},
     "output_type": "execute_result"
    },
    {
     "data": {
      "image/png": "[encoded data removed]",
      "text/plain": [
       "<Figure size 432x288 with 1 Axes>"
      ]
     },
     "metadata": {
      "needs_background": "light"
     },
     "output_type": "display_data"
    }
   ],
   "source": [
    "# Ploting the sampling distribution with rejection regions\n",
    "\n",
    "# Defining the x minimum and x maximum\n",
    "x_min = 3.5\n",
    "x_max = 4.5\n",
    "\n",
    "# Defining the sampling distribution mean and sampling distribution std\n",
    "mean = pop_mean\n",
    "std = sample_std / sample_size**0.5\n",
    "\n",
    "# Ploting the graph and setting the x limits\n",
    "x = np.linspace(x_min, x_max, 100)\n",
    "y = norm.pdf(x, mean, std)\n",
    "plt.xlim(x_min, x_max)\n",
    "plt.plot(x, y)\n",
    "\n",
    "# Computing the right critical values (One tailed Test)\n",
    "t_critical_right = pop_mean + (t_critical * std)\n",
    "\n",
    "# Shading the right rejection region\n",
    "x1 = np.linspace(t_critical_right, x_max, 100)\n",
    "y1 = norm.pdf(x1, mean, std)\n",
    "plt.fill_between(x1, y1, color='orange')\n",
    "\n",
    "# Ploting the sample mean and concluding the results \n",
    "plt.scatter(sample_mean, 0)\n",
    "plt.annotate(\"x_bar\", (sample_mean, 0.0007))\n",
    "\n",
    "# In this case sample mean falls in the acceptance region\n",
    "# i.e. here we fail to reject the Null Hypothesis"
   ]
  },
  {
   "cell_type": "code",
   "execution_count": 28,
   "metadata": {},
   "outputs": [
    {
     "name": "stdout",
     "output_type": "stream",
     "text": [
      "Fail to reject Null Hypothesis\n"
     ]
    }
   ],
   "source": [
    "# Conclusion using t test\n",
    "\n",
    "if(np.abs(t_score) > t_critical):\n",
    "    print(\"Reject Null Hypothesis\")\n",
    "else:\n",
    "    print(\"Fail to reject Null Hypothesis\")"
   ]
  },
  {
   "cell_type": "code",
   "execution_count": 29,
   "metadata": {},
   "outputs": [
    {
     "name": "stdout",
     "output_type": "stream",
     "text": [
      "p_value =  0.08876492620607679\n",
      "Fail to reject Null Hypothesis\n"
     ]
    }
   ],
   "source": [
    "# Conclusion using p test\n",
    "\n",
    "p_value = 1.0 - norm.cdf(np.abs(t_score))\n",
    "print(\"p_value = \", p_value)\n",
    "\n",
    "if(p_value < alpha):\n",
    "    print(\"Reject Null Hypothesis\")\n",
    "else:\n",
    "    print(\"Fail to reject Null Hypothesis\")"
   ]
  },
  {
   "cell_type": "markdown",
   "metadata": {},
   "source": [
    "Q-3: TATA has developed a better fuel management system for the SUV segment. They claim that with this system, on average the SUV's mileage is at least 15 km/litre?\n",
    "\n",
    "Step - 1:\n",
    "Alternate Hypothesis (Bold Claim):$$ H_1: \\ &gt; 15 $$Null Hypothesis (Status Quo):$$ H_0: \\ &lt;= 15 $$\n",
    "\n",
    "Step - 2:\n",
    "\n",
    "Collect a sample of size n = 20$$ [14.08, 14.13, 15.65, 13.78, 16.26, 14.97, 15.36, 15.81, 14.53, 16.79, 15.78, 16.98, 13.23, 15.43, 15.46, 13.88, 14.31, 14.41, 15.76, 15.38] $$\n",
    "Compute sample mean$$ \\bar{x} \\ = \\ 15.1 $$\n",
    "Step - 3: Compute Test Statistic:$$ t = \\frac{\\bar{x} - \\mu}{S/\\sqrt[2]{n}}$$\n",
    "\n",
    "Step - 4: Decide $ \\alpha $\n",
    "\n",
    "Step - 5.1: right tailed t-test:$$ reject \\ H_0 \\ if \\ \\ t &gt; t_{n-1,\\alpha} $$\n",
    "\n",
    "Step - 5.2: Compute p-value"
   ]
  },
  {
   "cell_type": "code",
   "execution_count": 30,
   "metadata": {},
   "outputs": [
    {
     "name": "stdout",
     "output_type": "stream",
     "text": [
      "15.098999999999998\n"
     ]
    }
   ],
   "source": [
    "pop_mean = 15\n",
    "\n",
    "l = [14.08, 14.13, 15.65, 13.78, 16.26, 14.97, 15.36, 15.81, 14.53, 16.79, 15.78,\n",
    "     16.98, 13.23, 15.43, 15.46, 13.88, 14.31, 14.41, 15.76, 15.38]\n",
    "sample_size = len(l)\n",
    "sample_mean = sum(l)/len(l)\n",
    "\n",
    "print(sample_mean)"
   ]
  },
  {
   "cell_type": "code",
   "execution_count": 31,
   "metadata": {},
   "outputs": [
    {
     "name": "stdout",
     "output_type": "stream",
     "text": [
      "0.9994043225842081\n"
     ]
    }
   ],
   "source": [
    "# Calculating the std of sample\n",
    "\n",
    "sample_std = []\n",
    "for i in l:\n",
    "    sample_std.append((i-sample_mean)**2)\n",
    "    \n",
    "sample_std = (sum(sample_std)/len(l))**0.5\n",
    "print(sample_std)"
   ]
  },
  {
   "cell_type": "code",
   "execution_count": 32,
   "metadata": {},
   "outputs": [
    {
     "name": "stdout",
     "output_type": "stream",
     "text": [
      "1.729132811521367\n"
     ]
    }
   ],
   "source": [
    "# Right Tail - Calculating the t-critical value\n",
    "\n",
    "confidence_level = 0.95\n",
    "alpha = 1 - confidence_level\n",
    "df = len(l)-1\n",
    "t_critical = t.ppf(1 - alpha, df) # One tailed t score for 95% Confidence Level\n",
    "\n",
    "print(t_critical)"
   ]
  },
  {
   "cell_type": "code",
   "execution_count": 33,
   "metadata": {},
   "outputs": [
    {
     "name": "stdout",
     "output_type": "stream",
     "text": [
      "0.44300534782572615\n"
     ]
    }
   ],
   "source": [
    "# Calculating the t-score\n",
    "\n",
    "t_score = t_score_fun(sample_size, sample_mean, pop_mean, sample_std)\n",
    "print(t_score)"
   ]
  },
  {
   "cell_type": "code",
   "execution_count": 35,
   "metadata": {},
   "outputs": [
    {
     "data": {
      "text/plain": [
       "Text(15.098999999999998, 0.0007, 'x_bar')"
      ]
     },
     "execution_count": 35,
     "metadata": {},
     "output_type": "execute_result"
    },
    {
     "data": {
      "image/png": "[encoded data removed]",
      "text/plain": [
       "<Figure size 432x288 with 1 Axes>"
      ]
     },
     "metadata": {
      "needs_background": "light"
     },
     "output_type": "display_data"
    }
   ],
   "source": [
    "# Ploting the sampling distribution with rejection regions\n",
    "\n",
    "# Defining the x minimum and x maximum\n",
    "x_min = 13\n",
    "x_max = 17\n",
    "\n",
    "# Defining the sampling distribution mean and sampling distribution std\n",
    "mean = pop_mean\n",
    "std = sample_std / sample_size**0.5\n",
    "\n",
    "# Ploting the graph and setting the x limits\n",
    "x = np.linspace(x_min, x_max, 100)\n",
    "y = norm.pdf(x, mean, std)\n",
    "plt.xlim(x_min, x_max)\n",
    "plt.plot(x, y)\n",
    "\n",
    "# Computing the right critical values (One tailed Test)\n",
    "t_critical_right = pop_mean + (t_critical * std)\n",
    "\n",
    "# Shading the right rejection region\n",
    "x1 = np.linspace(t_critical_right, x_max, 100)\n",
    "y1 = norm.pdf(x1, mean, std)\n",
    "plt.fill_between(x1, y1, color='orange')\n",
    "\n",
    "# Ploting the sample mean and concluding the results \n",
    "plt.scatter(sample_mean, 0)\n",
    "plt.annotate(\"x_bar\", (sample_mean, 0.0007))\n",
    "\n",
    "# In this case sample mean falls in the acceptance region\n",
    "# i.e. here we fail to reject the Null Hypothesis"
   ]
  },
  {
   "cell_type": "code",
   "execution_count": 36,
   "metadata": {},
   "outputs": [
    {
     "name": "stdout",
     "output_type": "stream",
     "text": [
      "Fail to reject Null Hypothesis\n"
     ]
    }
   ],
   "source": [
    "# Conclusion using t test\n",
    "\n",
    "if(np.abs(t_score) > t_critical):\n",
    "    print(\"Reject Null Hypothesis\")\n",
    "else:\n",
    "    print(\"Fail to reject Null Hypothesis\")"
   ]
  },
  {
   "cell_type": "code",
   "execution_count": 37,
   "metadata": {},
   "outputs": [
    {
     "name": "stdout",
     "output_type": "stream",
     "text": [
      "p_value =  0.32888093328445067\n",
      "Fail to reject Null Hypothesis\n"
     ]
    }
   ],
   "source": [
    "# Conclusion using p test\n",
    "\n",
    "p_value = 1.0 - norm.cdf(np.abs(t_score))\n",
    "print(\"p_value = \", p_value)\n",
    "\n",
    "if(p_value < alpha):\n",
    "    print(\"Reject Null Hypothesis\")\n",
    "else:\n",
    "    print(\"Fail to reject Null Hypothesis\")"
   ]
  },
  {
   "cell_type": "markdown",
   "metadata": {},
   "source": [
    "Q-4: You have developed a new Machine Learning Application and claim that on average it takes less than 100 ms to predict for any future datapoint. How do you convince your client about this claim?\n",
    "\n",
    "Step - 1:\n",
    "Alternate Hypothesis (Bold Claim):$$ H_1: \\ &lt; 100 $$Null Hypothesis (Status Quo):$$ H_0: \\ &gt;= 100 $$\n",
    "\n",
    "Step - 2:\n",
    "\n",
    "Collect a sample of size n = 20$$ [100.08, 102.13, 98.65, 94.78, 96.26, 100.97, 98.36, 100.81, 99.53, 97.79, 101.78,\n",
    "   103.98, 94.23, 92.43, 91.46, 95.88, 98.31, 99.41, 105.76, 90.38] $$\n",
    "Compute sample mean$$ \\bar{x} \\ = \\ 98.149 $$\n",
    "Step - 3: Compute Test Statistic:$$ t = \\frac{\\bar{x} - \\mu}{S/\\sqrt[2]{n}}$$\n",
    "\n",
    "Step - 4: Decide $ \\alpha $\n",
    "\n",
    "Step - 5.1: left tailed t-test:$$ reject \\ H_0 \\ if \\ \\ t &lt; t_{n-1,\\alpha} $$\n",
    "\n",
    "Step - 5.2: Compute p-value"
   ]
  },
  {
   "cell_type": "code",
   "execution_count": 38,
   "metadata": {},
   "outputs": [
    {
     "name": "stdout",
     "output_type": "stream",
     "text": [
      "98.149\n"
     ]
    }
   ],
   "source": [
    "pop_mean = 100\n",
    "\n",
    "l = [100.08, 102.13, 98.65, 94.78, 96.26, 100.97, 98.36, 100.81, 99.53, 97.79, 101.78,\n",
    "     103.98, 94.23, 92.43, 91.46, 95.88, 98.31, 99.41, 105.76, 90.38]\n",
    "sample_size = len(l)\n",
    "sample_mean = sum(l)/len(l)\n",
    "\n",
    "print(sample_mean)"
   ]
  },
  {
   "cell_type": "code",
   "execution_count": 39,
   "metadata": {},
   "outputs": [
    {
     "name": "stdout",
     "output_type": "stream",
     "text": [
      "3.980629221618111\n"
     ]
    }
   ],
   "source": [
    "# Calculating the std of sample\n",
    "\n",
    "sample_std = []\n",
    "for i in l:\n",
    "    sample_std.append((i-sample_mean)**2)\n",
    "    \n",
    "sample_std = (sum(sample_std)/len(l))**0.5\n",
    "print(sample_std)"
   ]
  },
  {
   "cell_type": "code",
   "execution_count": 40,
   "metadata": {},
   "outputs": [
    {
     "name": "stdout",
     "output_type": "stream",
     "text": [
      "1.729132811521367\n"
     ]
    }
   ],
   "source": [
    "# Right Tail - Calculating the t-critical value\n",
    "\n",
    "confidence_level = 0.95\n",
    "alpha = 1 - confidence_level\n",
    "df = len(l)-1\n",
    "t_critical = t.ppf(1 - alpha, df) # One tailed t score for 95% Confidence Level\n",
    "\n",
    "print(t_critical)"
   ]
  },
  {
   "cell_type": "code",
   "execution_count": 41,
   "metadata": {},
   "outputs": [
    {
     "name": "stdout",
     "output_type": "stream",
     "text": [
      "-2.079551546209891\n"
     ]
    }
   ],
   "source": [
    "# Calculating the t-score\n",
    "\n",
    "t_score = t_score_fun(sample_size, sample_mean, pop_mean, sample_std)\n",
    "print(t_score)"
   ]
  },
  {
   "cell_type": "code",
   "execution_count": 42,
   "metadata": {},
   "outputs": [
    {
     "data": {
      "text/plain": [
       "Text(98.149, 0.0007, 'x_bar')"
      ]
     },
     "execution_count": 42,
     "metadata": {},
     "output_type": "execute_result"
    },
    {
     "data": {
      "image/png": "[encoded data removed]",
      "text/plain": [
       "<Figure size 432x288 with 1 Axes>"
      ]
     },
     "metadata": {
      "needs_background": "light"
     },
     "output_type": "display_data"
    }
   ],
   "source": [
    "# Ploting the sampling distribution with rejection regions\n",
    "\n",
    "# Defining the x minimum and x maximum\n",
    "x_min = 90.38\n",
    "x_max = 105.76\n",
    "\n",
    "# Defining the sampling distribution mean and sampling distribution std\n",
    "mean = pop_mean\n",
    "std = sample_std / sample_size**0.5\n",
    "\n",
    "# Ploting the graph and setting the x limits\n",
    "x = np.linspace(x_min, x_max, 100)\n",
    "y = norm.pdf(x, mean, std)\n",
    "plt.xlim(x_min, x_max)\n",
    "plt.plot(x, y)\n",
    "\n",
    "# Computing the right critical values (One tailed Test)\n",
    "t_critical_right = pop_mean + (t_critical * std)\n",
    "\n",
    "# Shading the right rejection region\n",
    "x1 = np.linspace(t_critical_right, x_max, 100)\n",
    "y1 = norm.pdf(x1, mean, std)\n",
    "plt.fill_between(x1, y1, color='orange')\n",
    "\n",
    "# Ploting the sample mean and concluding the results \n",
    "plt.scatter(sample_mean, 0)\n",
    "plt.annotate(\"x_bar\", (sample_mean, 0.0007))\n",
    "\n",
    "# In this case sample mean falls in the acceptance region\n",
    "# i.e. here we fail to reject the Null Hypothesis"
   ]
  },
  {
   "cell_type": "code",
   "execution_count": 43,
   "metadata": {},
   "outputs": [
    {
     "name": "stdout",
     "output_type": "stream",
     "text": [
      "Reject Null Hypothesis\n"
     ]
    }
   ],
   "source": [
    "# Conclusion using t test\n",
    "\n",
    "if(np.abs(t_score) > t_critical):\n",
    "    print(\"Reject Null Hypothesis\")\n",
    "else:\n",
    "    print(\"Fail to reject Null Hypothesis\")"
   ]
  },
  {
   "cell_type": "code",
   "execution_count": 44,
   "metadata": {},
   "outputs": [
    {
     "name": "stdout",
     "output_type": "stream",
     "text": [
      "p_value =  0.018783342602787356\n",
      "Reject Null Hypothesis\n"
     ]
    }
   ],
   "source": [
    "# Conclusion using p test\n",
    "\n",
    "p_value = 1.0 - norm.cdf(np.abs(t_score))\n",
    "print(\"p_value = \", p_value)\n",
    "\n",
    "if(p_value < alpha):\n",
    "    print(\"Reject Null Hypothesis\")\n",
    "else:\n",
    "    print(\"Fail to reject Null Hypothesis\")"
   ]
  }
 ],
 "metadata": {
  "kernelspec": {
   "display_name": "Python 3",
   "language": "python",
   "name": "python3"
  },
  "language_info": {
   "codemirror_mode": {
    "name": "ipython",
    "version": 3
   },
   "file_extension": ".py",
   "mimetype": "text/x-python",
   "name": "python",
   "nbconvert_exporter": "python",
   "pygments_lexer": "ipython3",
   "version": "3.6.5"
  }
 },
 "nbformat": 4,
 "nbformat_minor": 4
}
